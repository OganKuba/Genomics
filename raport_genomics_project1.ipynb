{
 "cells": [
  {
   "cell_type": "markdown",
   "id": "7d84e97c9d329178",
   "metadata": {},
   "source": [
    "# Chromatin Loop Filtering in ChIA-PET Data (GM12878)"
   ]
  },
  {
   "cell_type": "markdown",
   "id": "763ef360079540b6",
   "metadata": {},
   "source": [
    "## Environment Setup (Optional)\n",
    "\n",
    "If you're running this notebook for the first time, install the required packages by running the cell below:\n"
   ]
  },
  {
   "cell_type": "code",
   "execution_count": 1,
   "id": "aca92a924b681cf6",
   "metadata": {
    "ExecuteTime": {
     "end_time": "2025-03-26T16:51:57.292654Z",
     "start_time": "2025-03-26T16:51:56.703898Z"
    }
   },
   "outputs": [
    {
     "name": "stdout",
     "output_type": "stream",
     "text": [
      "Requirement already satisfied: pandas in /home/kubog/.virtualenvs/GenomicsProject1/lib/python3.12/site-packages (2.2.3)\n",
      "Requirement already satisfied: pyranges in /home/kubog/.virtualenvs/GenomicsProject1/lib/python3.12/site-packages (0.1.4)\n",
      "Requirement already satisfied: matplotlib in /home/kubog/.virtualenvs/GenomicsProject1/lib/python3.12/site-packages (3.8.4)\n",
      "Requirement already satisfied: pyGenomeTracks in /home/kubog/.virtualenvs/GenomicsProject1/lib/python3.12/site-packages (3.9)\n",
      "Requirement already satisfied: numpy>=1.26.0 in /home/kubog/.virtualenvs/GenomicsProject1/lib/python3.12/site-packages (from pandas) (2.2.4)\n",
      "Requirement already satisfied: python-dateutil>=2.8.2 in /home/kubog/.virtualenvs/GenomicsProject1/lib/python3.12/site-packages (from pandas) (2.9.0.post0)\n",
      "Requirement already satisfied: pytz>=2020.1 in /home/kubog/.virtualenvs/GenomicsProject1/lib/python3.12/site-packages (from pandas) (2025.1)\n",
      "Requirement already satisfied: tzdata>=2022.7 in /home/kubog/.virtualenvs/GenomicsProject1/lib/python3.12/site-packages (from pandas) (2025.1)\n",
      "Requirement already satisfied: ncls>=0.0.63 in /home/kubog/.virtualenvs/GenomicsProject1/lib/python3.12/site-packages (from pyranges) (0.0.68)\n",
      "Requirement already satisfied: tabulate in /home/kubog/.virtualenvs/GenomicsProject1/lib/python3.12/site-packages (from pyranges) (0.9.0)\n",
      "Requirement already satisfied: sorted_nearest>=0.0.33 in /home/kubog/.virtualenvs/GenomicsProject1/lib/python3.12/site-packages (from pyranges) (0.0.39)\n",
      "Requirement already satisfied: natsort in /home/kubog/.virtualenvs/GenomicsProject1/lib/python3.12/site-packages (from pyranges) (8.4.0)\n",
      "Requirement already satisfied: contourpy>=1.0.1 in /home/kubog/.virtualenvs/GenomicsProject1/lib/python3.12/site-packages (from matplotlib) (1.3.1)\n",
      "Requirement already satisfied: cycler>=0.10 in /home/kubog/.virtualenvs/GenomicsProject1/lib/python3.12/site-packages (from matplotlib) (0.12.1)\n",
      "Requirement already satisfied: fonttools>=4.22.0 in /home/kubog/.virtualenvs/GenomicsProject1/lib/python3.12/site-packages (from matplotlib) (4.56.0)\n",
      "Requirement already satisfied: kiwisolver>=1.3.1 in /home/kubog/.virtualenvs/GenomicsProject1/lib/python3.12/site-packages (from matplotlib) (1.4.8)\n",
      "Requirement already satisfied: packaging>=20.0 in /home/kubog/.virtualenvs/GenomicsProject1/lib/python3.12/site-packages (from matplotlib) (24.2)\n",
      "Requirement already satisfied: pillow>=8 in /home/kubog/.virtualenvs/GenomicsProject1/lib/python3.12/site-packages (from matplotlib) (11.1.0)\n",
      "Requirement already satisfied: pyparsing>=2.3.1 in /home/kubog/.virtualenvs/GenomicsProject1/lib/python3.12/site-packages (from matplotlib) (3.2.1)\n",
      "Requirement already satisfied: intervaltree>=2.1.0 in /home/kubog/.virtualenvs/GenomicsProject1/lib/python3.12/site-packages (from pyGenomeTracks) (3.1.0)\n",
      "Requirement already satisfied: pyBigWig>=0.3.16 in /home/kubog/.virtualenvs/GenomicsProject1/lib/python3.12/site-packages (from pyGenomeTracks) (0.3.24)\n",
      "Requirement already satisfied: future>=0.17.0 in /home/kubog/.virtualenvs/GenomicsProject1/lib/python3.12/site-packages (from pyGenomeTracks) (1.0.0)\n",
      "Requirement already satisfied: hicmatrix>=15 in /home/kubog/.virtualenvs/GenomicsProject1/lib/python3.12/site-packages (from pyGenomeTracks) (17.2)\n",
      "Requirement already satisfied: pysam>=0.14 in /home/kubog/.virtualenvs/GenomicsProject1/lib/python3.12/site-packages (from pyGenomeTracks) (0.23.0)\n",
      "Requirement already satisfied: pytest in /home/kubog/.virtualenvs/GenomicsProject1/lib/python3.12/site-packages (from pyGenomeTracks) (8.3.5)\n",
      "Requirement already satisfied: gffutils>=0.9 in /home/kubog/.virtualenvs/GenomicsProject1/lib/python3.12/site-packages (from pyGenomeTracks) (0.13)\n",
      "Requirement already satisfied: pybedtools>=0.8.1 in /home/kubog/.virtualenvs/GenomicsProject1/lib/python3.12/site-packages (from pyGenomeTracks) (0.12.0)\n",
      "Requirement already satisfied: tqdm>=4.20 in /home/kubog/.virtualenvs/GenomicsProject1/lib/python3.12/site-packages (from pyGenomeTracks) (4.67.1)\n",
      "Requirement already satisfied: bx-python>=0.8.13 in /home/kubog/.virtualenvs/GenomicsProject1/lib/python3.12/site-packages (from pyGenomeTracks) (0.13.0)\n",
      "Requirement already satisfied: pyfaidx>=0.1.3 in /home/kubog/.virtualenvs/GenomicsProject1/lib/python3.12/site-packages (from pyGenomeTracks) (0.8.1.3)\n",
      "Requirement already satisfied: argh>=0.26.2 in /home/kubog/.virtualenvs/GenomicsProject1/lib/python3.12/site-packages (from gffutils>=0.9->pyGenomeTracks) (0.31.3)\n",
      "Requirement already satisfied: argcomplete>=1.9.4 in /home/kubog/.virtualenvs/GenomicsProject1/lib/python3.12/site-packages (from gffutils>=0.9->pyGenomeTracks) (3.6.1)\n",
      "Requirement already satisfied: simplejson in /home/kubog/.virtualenvs/GenomicsProject1/lib/python3.12/site-packages (from gffutils>=0.9->pyGenomeTracks) (3.20.1)\n",
      "Requirement already satisfied: scipy>=1.2 in /home/kubog/.virtualenvs/GenomicsProject1/lib/python3.12/site-packages (from hicmatrix>=15->pyGenomeTracks) (1.15.2)\n",
      "Requirement already satisfied: tables>=3.5 in /home/kubog/.virtualenvs/GenomicsProject1/lib/python3.12/site-packages (from hicmatrix>=15->pyGenomeTracks) (3.10.2)\n",
      "Requirement already satisfied: cooler>=0.8.9 in /home/kubog/.virtualenvs/GenomicsProject1/lib/python3.12/site-packages (from hicmatrix>=15->pyGenomeTracks) (0.10.3)\n",
      "Requirement already satisfied: sortedcontainers<3.0,>=2.0 in /home/kubog/.virtualenvs/GenomicsProject1/lib/python3.12/site-packages (from intervaltree>=2.1.0->pyGenomeTracks) (2.4.0)\n",
      "Requirement already satisfied: importlib-metadata in /home/kubog/.virtualenvs/GenomicsProject1/lib/python3.12/site-packages (from pyfaidx>=0.1.3->pyGenomeTracks) (8.6.1)\n",
      "Requirement already satisfied: six>=1.5 in /home/kubog/.virtualenvs/GenomicsProject1/lib/python3.12/site-packages (from python-dateutil>=2.8.2->pandas) (1.17.0)\n",
      "Requirement already satisfied: iniconfig in /home/kubog/.virtualenvs/GenomicsProject1/lib/python3.12/site-packages (from pytest->pyGenomeTracks) (2.1.0)\n",
      "Requirement already satisfied: pluggy<2,>=1.5 in /home/kubog/.virtualenvs/GenomicsProject1/lib/python3.12/site-packages (from pytest->pyGenomeTracks) (1.5.0)\n",
      "Requirement already satisfied: asciitree in /home/kubog/.virtualenvs/GenomicsProject1/lib/python3.12/site-packages (from cooler>=0.8.9->hicmatrix>=15->pyGenomeTracks) (0.3.3)\n",
      "Requirement already satisfied: click>=7 in /home/kubog/.virtualenvs/GenomicsProject1/lib/python3.12/site-packages (from cooler>=0.8.9->hicmatrix>=15->pyGenomeTracks) (8.1.8)\n",
      "Requirement already satisfied: cytoolz in /home/kubog/.virtualenvs/GenomicsProject1/lib/python3.12/site-packages (from cooler>=0.8.9->hicmatrix>=15->pyGenomeTracks) (1.0.1)\n",
      "Requirement already satisfied: h5py>=2.5 in /home/kubog/.virtualenvs/GenomicsProject1/lib/python3.12/site-packages (from cooler>=0.8.9->hicmatrix>=15->pyGenomeTracks) (3.13.0)\n",
      "Requirement already satisfied: multiprocess in /home/kubog/.virtualenvs/GenomicsProject1/lib/python3.12/site-packages (from cooler>=0.8.9->hicmatrix>=15->pyGenomeTracks) (0.70.17)\n",
      "Requirement already satisfied: pyyaml in /home/kubog/.virtualenvs/GenomicsProject1/lib/python3.12/site-packages (from cooler>=0.8.9->hicmatrix>=15->pyGenomeTracks) (6.0.2)\n",
      "Requirement already satisfied: numexpr>=2.6.2 in /home/kubog/.virtualenvs/GenomicsProject1/lib/python3.12/site-packages (from tables>=3.5->hicmatrix>=15->pyGenomeTracks) (2.10.2)\n",
      "Requirement already satisfied: py-cpuinfo in /home/kubog/.virtualenvs/GenomicsProject1/lib/python3.12/site-packages (from tables>=3.5->hicmatrix>=15->pyGenomeTracks) (9.0.0)\n",
      "Requirement already satisfied: blosc2>=2.3.0 in /home/kubog/.virtualenvs/GenomicsProject1/lib/python3.12/site-packages (from tables>=3.5->hicmatrix>=15->pyGenomeTracks) (3.2.0)\n",
      "Requirement already satisfied: typing-extensions>=4.4.0 in /home/kubog/.virtualenvs/GenomicsProject1/lib/python3.12/site-packages (from tables>=3.5->hicmatrix>=15->pyGenomeTracks) (4.12.2)\n",
      "Requirement already satisfied: zipp>=3.20 in /home/kubog/.virtualenvs/GenomicsProject1/lib/python3.12/site-packages (from importlib-metadata->pyfaidx>=0.1.3->pyGenomeTracks) (3.21.0)\n",
      "Requirement already satisfied: ndindex in /home/kubog/.virtualenvs/GenomicsProject1/lib/python3.12/site-packages (from blosc2>=2.3.0->tables>=3.5->hicmatrix>=15->pyGenomeTracks) (1.9.2)\n",
      "Requirement already satisfied: msgpack in /home/kubog/.virtualenvs/GenomicsProject1/lib/python3.12/site-packages (from blosc2>=2.3.0->tables>=3.5->hicmatrix>=15->pyGenomeTracks) (1.1.0)\n",
      "Requirement already satisfied: platformdirs in /home/kubog/.virtualenvs/GenomicsProject1/lib/python3.12/site-packages (from blosc2>=2.3.0->tables>=3.5->hicmatrix>=15->pyGenomeTracks) (4.3.7)\n",
      "Requirement already satisfied: requests in /home/kubog/.virtualenvs/GenomicsProject1/lib/python3.12/site-packages (from blosc2>=2.3.0->tables>=3.5->hicmatrix>=15->pyGenomeTracks) (2.32.3)\n",
      "Requirement already satisfied: toolz>=0.8.0 in /home/kubog/.virtualenvs/GenomicsProject1/lib/python3.12/site-packages (from cytoolz->cooler>=0.8.9->hicmatrix>=15->pyGenomeTracks) (1.0.0)\n",
      "Requirement already satisfied: dill>=0.3.9 in /home/kubog/.virtualenvs/GenomicsProject1/lib/python3.12/site-packages (from multiprocess->cooler>=0.8.9->hicmatrix>=15->pyGenomeTracks) (0.3.9)\n",
      "Requirement already satisfied: charset-normalizer<4,>=2 in /home/kubog/.virtualenvs/GenomicsProject1/lib/python3.12/site-packages (from requests->blosc2>=2.3.0->tables>=3.5->hicmatrix>=15->pyGenomeTracks) (3.4.1)\n",
      "Requirement already satisfied: idna<4,>=2.5 in /home/kubog/.virtualenvs/GenomicsProject1/lib/python3.12/site-packages (from requests->blosc2>=2.3.0->tables>=3.5->hicmatrix>=15->pyGenomeTracks) (3.10)\n",
      "Requirement already satisfied: urllib3<3,>=1.21.1 in /home/kubog/.virtualenvs/GenomicsProject1/lib/python3.12/site-packages (from requests->blosc2>=2.3.0->tables>=3.5->hicmatrix>=15->pyGenomeTracks) (2.3.0)\n",
      "Requirement already satisfied: certifi>=2017.4.17 in /home/kubog/.virtualenvs/GenomicsProject1/lib/python3.12/site-packages (from requests->blosc2>=2.3.0->tables>=3.5->hicmatrix>=15->pyGenomeTracks) (2025.1.31)\n",
      "\n",
      "\u001B[1m[\u001B[0m\u001B[34;49mnotice\u001B[0m\u001B[1;39;49m]\u001B[0m\u001B[39;49m A new release of pip is available: \u001B[0m\u001B[31;49m23.2.1\u001B[0m\u001B[39;49m -> \u001B[0m\u001B[32;49m25.0.1\u001B[0m\n",
      "\u001B[1m[\u001B[0m\u001B[34;49mnotice\u001B[0m\u001B[1;39;49m]\u001B[0m\u001B[39;49m To update, run: \u001B[0m\u001B[32;49mpip install --upgrade pip\u001B[0m\n"
     ]
    }
   ],
   "source": [
    "# OPTIONAL: install required packages\n",
    "!pip install pandas pyranges matplotlib pyGenomeTracks\n"
   ]
  },
  {
   "cell_type": "markdown",
   "id": "1662c861fca00197",
   "metadata": {},
   "source": [
    "## 1. Brief Project Description\n",
    "\n",
    "In this project, we filter chromatin loops from a **ChIA-PET** experiment (cell line GM12878) to identify loops that have anchors bound by CTCF and Rad21 (a subunit of the cohesin complex).\n",
    "\n",
    "For each protein:\n",
    "- We look for loops with at least one anchor containing the corresponding ChIP-seq peak,\n",
    "- We look for loops with both anchors containing that peak.\n",
    "\n",
    "We then identify the overlapping sets of loops (CTCF-based vs. Rad21-based)."
   ]
  },
  {
   "cell_type": "markdown",
   "id": "9b0e5b41fa3e2c4f",
   "metadata": {},
   "source": [
    "## 2. Data Sources\n",
    "\n",
    "1. **ChIA-PET loops (GM12878)**\n",
    "   Downloaded from: [4D Nucleome, 4DNES7IB5LY9](https://data.4dnucleome.org/experiment-set-replicates/4DNES7IB5LY9/).\n",
    "   Example file: `4DNFIS9CCN6R.bedpe.gz` (long-range chromatin interactions).\n",
    "\n",
    "2. **CTCF ChIP-seq peaks (GM12878)**\n",
    "   From [ENCODE, ENCFF356LIU](https://www.encodeproject.org/files/ENCFF356LIU/).\n",
    "\n",
    "3. **Rad21 ChIP-seq peaks (GM12878)**\n",
    "   From [ENCODE, ENCFF834GOT](https://www.encodeproject.org/files/ENCFF834GOT/).\n",
    "\n",
    "**File Formats**\n",
    "- **ChIA-PET**: A `BEDPE` (`.bedpe.gz`) file, typically containing at least these 6 columns: `[chrom1, start1, end1, chrom2, start2, end2]`.\n",
    "- **CTCF / Rad21**: `BED`-formatted (`.bed.gz`) with columns `[chrom, start, end]`."
   ]
  },
  {
   "cell_type": "markdown",
   "id": "df5bd6bcad89bcb3",
   "metadata": {},
   "source": [
    "# 3. Exploratory Data Analysis\n",
    "\n",
    "The following code loads the files using:\n",
    "- `gzip`\n",
    "- `pandas`\n",
    "\n",
    "It then prints basic stats (record count, a few head rows).\n",
    "Note: Replace `path_to_chia_pet.bedpe.gz`, `path_to_ctcf.bed.gz`, `path_to_rad21.bed.gz` with **your local file paths**."
   ]
  },
  {
   "cell_type": "code",
   "id": "ee926952bc64fcc9",
   "metadata": {
    "ExecuteTime": {
     "end_time": "2025-03-26T17:35:11.564008Z",
     "start_time": "2025-03-26T17:35:08.167542Z"
    }
   },
   "source": [
    "import pandas as pd\n",
    "import gzip\n",
    "\n",
    "\n",
    "def load_bedpe(file_path):\n",
    "    with gzip.open(file_path, 'rt') as f:\n",
    "        columns = [\"chrom1\", \"start1\", \"end1\", \"chrom2\", \"start2\", \"end2\"]\n",
    "        df = pd.read_csv(f, sep='\\t', comment='#', header=None, usecols=range(6), names=columns)\n",
    "    return df\n",
    "\n",
    "\n",
    "def load_bed(file_path):\n",
    "    with gzip.open(file_path, 'rt') as f:\n",
    "        columns = [\"chrom\", \"start\", \"end\"]\n",
    "        df = pd.read_csv(f, sep='\\t', comment='#', header=None, usecols=range(3), names=columns)\n",
    "    return df\n",
    "\n",
    "#Define paths to the data files\n",
    "chia_pet_path = \"/home/kubog/genomics_data/4DNFIS9CCN6R.bedpe.gz\"\n",
    "ctcf_path = \"/home/kubog/genomics_data/ENCFF356LIU.bed.gz\"\n",
    "rad21_path = \"/home/kubog/genomics_data/ENCFF834GOT.bed.gz\"\n",
    "\n",
    "chia_pet_df = load_bedpe(chia_pet_path)\n",
    "ctcf_df = load_bed(ctcf_path)\n",
    "rad21_df = load_bed(rad21_path)\n",
    "\n",
    "print(\"### ChIA-PET Loops (HEAD) ###\")\n",
    "print(chia_pet_df.head())\n",
    "print(f\"Number of loops (ChIA-PET): {len(chia_pet_df)}\\n\")\n",
    "\n",
    "print(\"### CTCF Peaks (HEAD) ###\")\n",
    "print(ctcf_df.head())\n",
    "print(f\"Number of peaks (CTCF): {len(ctcf_df)}\\n\")\n",
    "\n",
    "print(\"### Rad21 Peaks (HEAD) ###\")\n",
    "print(rad21_df.head())\n",
    "print(f\"Number of peaks (Rad21): {len(rad21_df)}\")\n"
   ],
   "outputs": [
    {
     "name": "stdout",
     "output_type": "stream",
     "text": [
      "### ChIA-PET Loops (HEAD) ###\n",
      "  chrom1  start1   end1 chrom2    start2      end2\n",
      "0  chr10   49043  49694  chr10   1596907   1597444\n",
      "1  chr10   49291  49814  chr10  71061105  71061664\n",
      "2  chr10   50096  50747  chr10  19437275  19437902\n",
      "3  chr10   52377  52917  chr10     78536     79151\n",
      "4  chr10   52428  53079  chr10    806777    807334\n",
      "Number of loops (ChIA-PET): 5815083\n",
      "\n",
      "### CTCF Peaks (HEAD) ###\n",
      "   chrom     start       end\n",
      "0   chr3  39812740  39813090\n",
      "1   chr2  96508234  96508584\n",
      "2  chr20    577635    577985\n",
      "3  chr14  23094608  23094958\n",
      "4   chr3  24683997  24684347\n",
      "Number of peaks (CTCF): 40949\n",
      "\n",
      "### Rad21 Peaks (HEAD) ###\n",
      "   chrom      start        end\n",
      "0   chrX   10119439   10119802\n",
      "1   chr4  147866870  147867089\n",
      "2  chr20   34312736   34312962\n",
      "3  chr10  102009907  102010123\n",
      "4   chr3   39288401   39288604\n",
      "Number of peaks (Rad21): 34623\n"
     ]
    }
   ],
   "execution_count": 28
  },
  {
   "cell_type": "markdown",
   "id": "b96d33fe5940c5d8",
   "metadata": {},
   "source": [
    "## 4. Filtering Algorithm and Code\n",
    "\n",
    "Below is the core Python code that:\n",
    "\n",
    "- Converts ChIA-PET loops and CTCF/Rad21 peaks into PyRanges objects,\n",
    "- Finds loops that have an overlap with peaks in their anchors,\n",
    "- Returns sets of loop IDs that meet the criteria.\n",
    "\n",
    "This code is reusable and will be used in the analysis section later.\n"
   ]
  },
  {
   "cell_type": "code",
   "id": "47a977486e0c6780",
   "metadata": {
    "ExecuteTime": {
     "end_time": "2025-03-26T17:35:05.430742Z",
     "start_time": "2025-03-26T17:35:05.013956Z"
    }
   },
   "source": [
    "import pyranges as pr\n",
    "import pandas as pd\n",
    "\n",
    "def chia_pet_anchors_to_pyranges(chia_pet_df, anchor=1):\n",
    "    \"\"\"\n",
    "    For a DataFrame with columns [chrom1, start1, end1, chrom2, start2, end2],\n",
    "    extract one anchor (anchor=1 or anchor=2) and return a PyRanges object\n",
    "    with columns [Chromosome, Start, End, loop_id].\n",
    "    \"\"\"\n",
    "    anchor_data = []\n",
    "    for loop_id, row in chia_pet_df.iterrows():\n",
    "        if anchor == 1:\n",
    "            chrom, start, end = row[\"chrom1\"], row[\"start1\"], row[\"end1\"]\n",
    "        else:\n",
    "            chrom, start, end = row[\"chrom2\"], row[\"start2\"], row[\"end2\"]\n",
    "        anchor_data.append([chrom, start, end, loop_id])\n",
    "\n",
    "    anchor_df = pd.DataFrame(anchor_data, columns=[\"Chromosome\", \"Start\", \"End\", \"loop_id\"])\n",
    "    return pr.PyRanges(anchor_df)\n",
    "\n",
    "def bed_df_to_pyranges(bed_df):\n",
    "    \"\"\"\n",
    "    For a DataFrame with columns [chrom, start, end],\n",
    "    return a PyRanges object with [Chromosome, Start, End].\n",
    "    \"\"\"\n",
    "    pr_df = bed_df.rename(columns={\n",
    "        \"chrom\": \"Chromosome\",\n",
    "        \"start\": \"Start\",\n",
    "        \"end\":   \"End\"\n",
    "    })\n",
    "    return pr.PyRanges(pr_df)\n",
    "\n",
    "def find_loops_with_peak(chia_pet_pyr, peak_pyr):\n",
    "    \"\"\"\n",
    "    Intersect (join) the ChIA-PET anchors PyRanges with the peak PyRanges\n",
    "    and return a set of loop_ids that have at least one peak in an anchor.\n",
    "    \"\"\"\n",
    "    overlap_result = chia_pet_pyr.join(peak_pyr)\n",
    "    loop_ids = set(overlap_result.df[\"loop_id\"])\n",
    "    return loop_ids\n"
   ],
   "outputs": [],
   "execution_count": 27
  },
  {
   "cell_type": "markdown",
   "id": "822adc4062f1944c",
   "metadata": {},
   "source": [
    "## Main Function – Filtering and Analysis\n",
    "\n",
    "This section defines the core logic of the analysis pipeline. The function performs the following steps:\n",
    "\n",
    "- Loads ChIA-PET loop data and ChIP-seq peaks (CTCF and Rad21),\n",
    "- Converts them into `PyRanges` objects,\n",
    "- Finds loops with at least one or both anchors overlapping ChIP-seq peaks,\n",
    "- Computes intersections between CTCF and Rad21 loop sets,\n",
    "- Annotates and saves results to a CSV file,\n",
    "- Generates a bar chart showing the number of loops in each category.\n"
   ]
  },
  {
   "cell_type": "code",
   "id": "60b12668df33442",
   "metadata": {
    "ExecuteTime": {
     "end_time": "2025-03-26T17:58:55.566837Z",
     "start_time": "2025-03-26T17:58:55.555580Z"
    }
   },
   "source": [
    "import matplotlib.pyplot as plt\n",
    "\n",
    "def annotate_and_save_results(chia_pet_df, ctcf_anchor1, ctcf_anchor2,\n",
    "                              rad21_anchor1, rad21_anchor2, out_file):\n",
    "    # Sets of loops with ≥1 anchors (CTCF or Rad21) or 2 anchors\n",
    "    ctcf_1anchor_set = ctcf_anchor1.union(ctcf_anchor2)\n",
    "    ctcf_2anchors_set = ctcf_anchor1.intersection(ctcf_anchor2)\n",
    "\n",
    "    rad21_1anchor_set = rad21_anchor1.union(rad21_anchor2)\n",
    "    rad21_2anchors_set = rad21_anchor1.intersection(rad21_anchor2)\n",
    "\n",
    "    chia_pet_df['CTCF_1anchor'] = chia_pet_df.index.map(lambda i: i in ctcf_1anchor_set)\n",
    "    chia_pet_df['CTCF_2anchors'] = chia_pet_df.index.map(lambda i: i in ctcf_2anchors_set)\n",
    "    chia_pet_df['Rad21_1anchor'] = chia_pet_df.index.map(lambda i: i in rad21_1anchor_set)\n",
    "    chia_pet_df['Rad21_2anchors'] = chia_pet_df.index.map(lambda i: i in rad21_2anchors_set)\n",
    "\n",
    "    chia_pet_df.to_csv(out_file, index=False)\n",
    "    print(f\"[INFO] Results with annotations saved to: {out_file}\")\n",
    "\n",
    "def plot_basic_counts(ctcf_1anchor, ctcf_2anchors, rad21_1anchor, rad21_2anchors, out_plot):\n",
    "    labels = [\n",
    "        \"CTCF ≥1 anchor\",\n",
    "        \"CTCF 2 anchors\",\n",
    "        \"Rad21 ≥1 anchor\",\n",
    "        \"Rad21 2 anchors\"\n",
    "    ]\n",
    "    sizes = [\n",
    "        len(ctcf_1anchor),\n",
    "        len(ctcf_2anchors),\n",
    "        len(rad21_1anchor),\n",
    "        len(rad21_2anchors)\n",
    "    ]\n",
    "\n",
    "    plt.figure(figsize=(8, 5))\n",
    "    plt.bar(labels, sizes)\n",
    "    plt.title(\"Loop Count in Different Categories\")\n",
    "    plt.ylabel(\"Number of Loops\")\n",
    "    plt.xticks(rotation=45)\n",
    "    plt.tight_layout()\n",
    "    plt.savefig(out_plot)\n",
    "    plt.show()\n",
    "    print(f\"[INFO] Bar plot saved to: {out_plot}\")\n",
    "\n",
    "from matplotlib_venn import venn2\n",
    "\n",
    "def plot_overlap_venn(ctcf_1anchor, rad21_1anchor, out_file):\n",
    "    set_ctcf = set(ctcf_1anchor)\n",
    "    set_rad21 = set(rad21_1anchor)\n",
    "\n",
    "    plt.figure(figsize=(6, 6))\n",
    "    venn2([set_ctcf, set_rad21], set_labels=(\"CTCF ≥1 anchor\", \"Rad21 ≥1 anchor\"))\n",
    "    plt.title(\"Loops with ≥1 Anchor Overlap\")\n",
    "    plt.savefig(out_file)\n",
    "    plt.show()\n",
    "    print(f\"[INFO] Venn diagram saved to: {out_file}\")\n",
    "\n",
    "def plot_stacked_anchor_counts(chia_df, out_file):\n",
    "    counts = {\n",
    "        \"CTCF\": [0, 0, 0],\n",
    "        \"Rad21\": [0, 0, 0]\n",
    "    }\n",
    "\n",
    "    for _, row in chia_df.iterrows():\n",
    "        ctcf_count = int(row[\"CTCF_1anchor\"]) + int(row[\"CTCF_2anchors\"])\n",
    "        rad21_count = int(row[\"Rad21_1anchor\"]) + int(row[\"Rad21_2anchors\"])\n",
    "        counts[\"CTCF\"][ctcf_count] += 1\n",
    "        counts[\"Rad21\"][rad21_count] += 1\n",
    "\n",
    "    labels = [\"0 anchors\", \"1 anchor\", \"2 anchors\"]\n",
    "    x = range(len(labels))\n",
    "\n",
    "    fig, ax = plt.subplots(figsize=(8, 5))\n",
    "    ax.bar(x, counts[\"CTCF\"], label=\"CTCF\")\n",
    "    ax.bar(x, counts[\"Rad21\"], bottom=counts[\"CTCF\"], label=\"Rad21\")\n",
    "    ax.set_xticks(x)\n",
    "    ax.set_xticklabels(labels)\n",
    "    ax.set_ylabel(\"Number of Loops\")\n",
    "    ax.set_title(\"Anchors per Loop with Protein Overlap\")\n",
    "    ax.legend()\n",
    "    plt.tight_layout()\n",
    "    plt.savefig(out_file)\n",
    "    plt.show()\n",
    "    print(f\"[INFO] Stacked bar chart saved to: {out_file}\")\n",
    "\n",
    "def plot_protein_overlap_summary(ctcf_1anchor, ctcf_2anchors, rad21_1anchor, rad21_2anchors,\n",
    "                                 overlap_1anchor, overlap_2anchors, out_file):\n",
    "    labels = [\n",
    "        \"CTCF ≥1 anchor only\",\n",
    "        \"Rad21 ≥1 anchor only\",\n",
    "        \"CTCF & Rad21 ≥1 anchor\",\n",
    "        \"CTCF 2 anchors only\",\n",
    "        \"Rad21 2 anchors only\",\n",
    "        \"CTCF & Rad21 2 anchors\"\n",
    "    ]\n",
    "\n",
    "    ctcf_1_only = len(ctcf_1anchor - rad21_1anchor)\n",
    "    rad21_1_only = len(rad21_1anchor - ctcf_1anchor)\n",
    "    both_1 = len(overlap_1anchor)\n",
    "\n",
    "    ctcf_2_only = len(ctcf_2anchors - rad21_2anchors)\n",
    "    rad21_2_only = len(rad21_2anchors - ctcf_2anchors)\n",
    "    both_2 = len(overlap_2anchors)\n",
    "\n",
    "    values = [ctcf_1_only, rad21_1_only, both_1, ctcf_2_only, rad21_2_only, both_2]\n",
    "\n",
    "    plt.figure(figsize=(10, 6))\n",
    "    plt.bar(labels, values, color=['blue', 'red', 'purple', 'lightblue', 'lightcoral', 'mediumpurple'])\n",
    "    plt.ylabel(\"Number of Loops\")\n",
    "    plt.title(\"Overlap of CTCF and Rad21 in Loop Anchors\")\n",
    "    plt.xticks(rotation=30, ha=\"right\")\n",
    "    plt.tight_layout()\n",
    "    plt.savefig(out_file)\n",
    "    plt.show()\n",
    "    print(f\"[INFO] Overlap comparison plot saved to: {out_file}\")\n",
    "\n"
   ],
   "outputs": [],
   "execution_count": 35
  },
  {
   "cell_type": "markdown",
   "id": "b773f76ac166f8e9",
   "metadata": {},
   "source": [
    "### Processing Function\n",
    "\n",
    "The `process_chia_pet()` function ties everything together. You can adjust `start` and `stop` parameters to run the analysis on a small subset for faster testing.\n"
   ]
  },
  {
   "cell_type": "code",
   "id": "f24c3065a6c18996",
   "metadata": {
    "ExecuteTime": {
     "end_time": "2025-03-26T17:58:59.792256Z",
     "start_time": "2025-03-26T17:58:59.784806Z"
    }
   },
   "source": [
    "def process_chia_pet(chia_file, ctcf_file, rad21_file,\n",
    "                     start=None, stop=None,\n",
    "                     out_csv=\"chia_pet_annotated.csv\",\n",
    "                     out_plot=\"loop_categories_barplot.png\"):\n",
    "    print(\"### [INFO] Loading data... ###\")\n",
    "    chia_pet_df = load_bedpe(chia_file)\n",
    "    ctcf_df = load_bed(ctcf_file)\n",
    "    rad21_df = load_bed(rad21_file)\n",
    "\n",
    "    # Optional subset for testing\n",
    "    if start is not None or stop is not None:\n",
    "        chia_pet_df = chia_pet_df[start:stop]\n",
    "\n",
    "    chia_pet_df.reset_index(drop=True, inplace=True)\n",
    "\n",
    "    print(f\"Number of loops for analysis: {len(chia_pet_df)}\")\n",
    "\n",
    "    # Convert to PyRanges\n",
    "    anchor1_pyr = chia_pet_anchors_to_pyranges(chia_pet_df, anchor=1)\n",
    "    anchor2_pyr = chia_pet_anchors_to_pyranges(chia_pet_df, anchor=2)\n",
    "    ctcf_pyr = bed_df_to_pyranges(ctcf_df)\n",
    "    rad21_pyr = bed_df_to_pyranges(rad21_df)\n",
    "\n",
    "    # Identify overlapping loops\n",
    "    ctcf_anchor1 = find_loops_with_peak(anchor1_pyr, ctcf_pyr)\n",
    "    ctcf_anchor2 = find_loops_with_peak(anchor2_pyr, ctcf_pyr)\n",
    "    rad21_anchor1 = find_loops_with_peak(anchor1_pyr, rad21_pyr)\n",
    "    rad21_anchor2 = find_loops_with_peak(anchor2_pyr, rad21_pyr)\n",
    "\n",
    "    all_loops = set(chia_pet_df.index)\n",
    "\n",
    "    # Union and intersection\n",
    "    ctcf_1anchor = ctcf_anchor1.union(ctcf_anchor2)\n",
    "    ctcf_2anchors = ctcf_anchor1.intersection(ctcf_anchor2)\n",
    "    rad21_1anchor = rad21_anchor1.union(rad21_anchor2)\n",
    "    rad21_2anchors = rad21_anchor1.intersection(rad21_anchor2)\n",
    "\n",
    "    # Overlap between CTCF and Rad21\n",
    "    overlap_ctcf1_rad21_1 = ctcf_1anchor.intersection(rad21_1anchor)\n",
    "    overlap_ctcf2_rad21_2 = ctcf_2anchors.intersection(rad21_2anchors)\n",
    "\n",
    "    # Print summary\n",
    "    print(f\"[INFO] Total loops analyzed              : {len(all_loops)}\")\n",
    "    print(f\"[INFO] Loops with ≥1 CTCF anchor         : {len(ctcf_1anchor)}\")\n",
    "    print(f\"[INFO] Loops with 2 CTCF anchors         : {len(ctcf_2anchors)}\")\n",
    "    print(f\"[INFO] Loops with ≥1 Rad21 anchor        : {len(rad21_1anchor)}\")\n",
    "    print(f\"[INFO] Loops with 2 Rad21 anchors        : {len(rad21_2anchors)}\")\n",
    "    print(\"--------------------------------------------------\")\n",
    "    print(f\"[INFO] Overlap: ≥1 CTCF & ≥1 Rad21 anchor : {len(overlap_ctcf1_rad21_1)}\")\n",
    "    print(f\"[INFO] Overlap: 2 CTCF & 2 Rad21 anchors  : {len(overlap_ctcf2_rad21_2)}\")\n",
    "\n",
    "    # Save annotated results\n",
    "    annotate_and_save_results(\n",
    "        chia_pet_df,\n",
    "        ctcf_anchor1, ctcf_anchor2,\n",
    "        rad21_anchor1, rad21_anchor2,\n",
    "        out_csv\n",
    "    )\n",
    "\n",
    "    # Plot categories\n",
    "    plot_basic_counts(ctcf_1anchor, ctcf_2anchors, rad21_1anchor, rad21_2anchors, \"plot_basic.png\")\n",
    "    plot_overlap_venn(ctcf_1anchor, rad21_1anchor, \"plot_venn.png\")\n",
    "    plot_stacked_anchor_counts(pd.read_csv(\"chia_pet_annotated_small.csv\"), \"plot_stacked.png\")\n",
    "    plot_protein_overlap_summary(\n",
    "        ctcf_1anchor,\n",
    "        ctcf_2anchors,\n",
    "        rad21_1anchor,\n",
    "        rad21_2anchors,\n",
    "        overlap_ctcf1_rad21_1,\n",
    "        overlap_ctcf2_rad21_2,\n",
    "        out_file=\"plot_overlap_summary.png\"\n",
    "    )\n",
    "\n",
    "\n",
    "\n",
    "    print(\"### [INFO] Analysis complete. ###\")\n"
   ],
   "outputs": [],
   "execution_count": 36
  },
  {
   "cell_type": "markdown",
   "id": "db7f4f4f5d7d786f",
   "metadata": {},
   "source": [
    "### Running on a Subset\n",
    "\n",
    "To quickly test your code, you can analyze the first 1000 loops using the `start` and `stop` parameters.\n"
   ]
  },
  {
   "cell_type": "code",
   "id": "c35665be82b3931d",
   "metadata": {
    "ExecuteTime": {
     "end_time": "2025-03-26T18:08:19.933729Z",
     "start_time": "2025-03-26T17:59:01.252586Z"
    }
   },
   "source": [
    "# Example: Run analysis on the first 1000 loops\n",
    "process_chia_pet(\n",
    "    chia_file=chia_pet_path,\n",
    "    ctcf_file=ctcf_path,\n",
    "    rad21_file=rad21_path,\n",
    "    start=0,\n",
    "    stop=None,\n",
    "    out_csv=\"chia_pet_annotated_small.csv\",\n",
    "    out_plot=\"loop_categories_barplot_small.png\"\n",
    ")\n"
   ],
   "outputs": [
    {
     "name": "stdout",
     "output_type": "stream",
     "text": [
      "### [INFO] Loading data... ###\n",
      "Number of loops for analysis: 5815083\n",
      "[INFO] Total loops analyzed              : 5815083\n",
      "[INFO] Loops with ≥1 CTCF anchor         : 1230768\n",
      "[INFO] Loops with 2 CTCF anchors         : 49905\n",
      "[INFO] Loops with ≥1 Rad21 anchor        : 1070890\n",
      "[INFO] Loops with 2 Rad21 anchors        : 37902\n",
      "--------------------------------------------------\n",
      "[INFO] Overlap: ≥1 CTCF & ≥1 Rad21 anchor : 966214\n",
      "[INFO] Overlap: 2 CTCF & 2 Rad21 anchors  : 29179\n",
      "[INFO] Results with annotations saved to: chia_pet_annotated_small.csv\n"
     ]
    },
    {
     "data": {
      "text/plain": [
       "<Figure size 800x500 with 1 Axes>"
      ],
      "image/png": "[encoded data removed]"
     },
     "metadata": {},
     "output_type": "display_data"
    },
    {
     "name": "stdout",
     "output_type": "stream",
     "text": [
      "[INFO] Bar plot saved to: plot_basic.png\n"
     ]
    },
    {
     "data": {
      "text/plain": [
       "<Figure size 600x600 with 1 Axes>"
      ],
      "image/png": "[encoded data removed]"
     },
     "metadata": {},
     "output_type": "display_data"
    },
    {
     "name": "stdout",
     "output_type": "stream",
     "text": [
      "[INFO] Venn diagram saved to: plot_venn.png\n"
     ]
    },
    {
     "data": {
      "text/plain": [
       "<Figure size 800x500 with 1 Axes>"
      ],
      "image/png": "[encoded data removed]"
     },
     "metadata": {},
     "output_type": "display_data"
    },
    {
     "name": "stdout",
     "output_type": "stream",
     "text": [
      "[INFO] Stacked bar chart saved to: plot_stacked.png\n"
     ]
    },
    {
     "data": {
      "text/plain": [
       "<Figure size 1000x600 with 1 Axes>"
      ],
      "image/png": "[encoded data removed]"
     },
     "metadata": {},
     "output_type": "display_data"
    },
    {
     "name": "stdout",
     "output_type": "stream",
     "text": [
      "[INFO] Overlap comparison plot saved to: plot_overlap_summary.png\n",
      "### [INFO] Analysis complete. ###\n"
     ]
    }
   ],
   "execution_count": 37
  },
  {
   "cell_type": "markdown",
   "id": "aee4359cd617aebc",
   "metadata": {},
   "source": [
    "## 5. Analysis Results\n",
    "\n",
    "After running the filtering function on the ChIA-PET dataset (GM12878 cell line), we obtained the following:\n",
    "\n",
    "### Console Statistics:\n",
    "- **Total number of loops analyzed**: 5,815,083\n",
    "- **Loops with ≥1 anchor overlapping a CTCF peak**: 1,230,768\n",
    "- **Loops with both anchors overlapping CTCF peaks**: 49,905\n",
    "- **Loops with ≥1 anchor overlapping a Rad21 peak**: 1,070,890\n",
    "- **Loops with both anchors overlapping Rad21 peaks**: 37,902\n",
    "- **Loops with ≥1 anchor overlapping both CTCF and Rad21**: 966,214\n",
    "- **Loops with both anchors overlapping both CTCF and Rad21**: 29,179\n",
    "\n",
    "---\n",
    "\n",
    "### Annotated CSV Output:\n",
    "The results were saved to a file like `chia_pet_annotated_small.csv`, which includes four new Boolean columns for each loop:\n",
    "- `CTCF_1anchor`: `True` if at least one anchor overlaps a CTCF peak\n",
    "- `CTCF_2anchors`: `True` if both anchors overlap CTCF peaks\n",
    "- `Rad21_1anchor`: `True` if at least one anchor overlaps a Rad21 peak\n",
    "- `Rad21_2anchors`: `True` if both anchors overlap Rad21 peaks\n",
    "\n",
    "---\n",
    "\n",
    "### Visual Outputs:\n",
    "Several plots were generated to illustrate the distributions and overlaps:\n",
    "- **Bar plot of loop counts**: `loop_categories_barplot_small.png`\n",
    "- **Venn diagram of ≥1 anchor overlaps**: `plot_venn.png`\n",
    "- **Stacked bar plot by number of protein-bound anchors**: `plot_stacked.png`\n",
    "- **Comparison of overlapping categories (CTCF vs Rad21)**: `plot_overlap_summary.png`\n",
    "\n",
    "---\n",
    "\n",
    "\n",
    "You can visualize the output CSV or re-load it like this:\n"
   ]
  },
  {
   "cell_type": "code",
   "execution_count": 6,
   "id": "92956585b0895cd",
   "metadata": {
    "ExecuteTime": {
     "end_time": "2025-03-26T16:20:03.848846Z",
     "start_time": "2025-03-26T16:20:03.830272Z"
    }
   },
   "outputs": [
    {
     "data": {
      "text/html": [
       "<div>\n",
       "<style scoped>\n",
       "    .dataframe tbody tr th:only-of-type {\n",
       "        vertical-align: middle;\n",
       "    }\n",
       "\n",
       "    .dataframe tbody tr th {\n",
       "        vertical-align: top;\n",
       "    }\n",
       "\n",
       "    .dataframe thead th {\n",
       "        text-align: right;\n",
       "    }\n",
       "</style>\n",
       "<table border=\"1\" class=\"dataframe\">\n",
       "  <thead>\n",
       "    <tr style=\"text-align: right;\">\n",
       "      <th></th>\n",
       "      <th>chrom1</th>\n",
       "      <th>start1</th>\n",
       "      <th>end1</th>\n",
       "      <th>chrom2</th>\n",
       "      <th>start2</th>\n",
       "      <th>end2</th>\n",
       "      <th>CTCF_1anchor</th>\n",
       "      <th>CTCF_2anchors</th>\n",
       "      <th>Rad21_1anchor</th>\n",
       "      <th>Rad21_2anchors</th>\n",
       "    </tr>\n",
       "  </thead>\n",
       "  <tbody>\n",
       "    <tr>\n",
       "      <th>0</th>\n",
       "      <td>chr10</td>\n",
       "      <td>49043</td>\n",
       "      <td>49694</td>\n",
       "      <td>chr10</td>\n",
       "      <td>1596907</td>\n",
       "      <td>1597444</td>\n",
       "      <td>False</td>\n",
       "      <td>False</td>\n",
       "      <td>False</td>\n",
       "      <td>False</td>\n",
       "    </tr>\n",
       "    <tr>\n",
       "      <th>1</th>\n",
       "      <td>chr10</td>\n",
       "      <td>49291</td>\n",
       "      <td>49814</td>\n",
       "      <td>chr10</td>\n",
       "      <td>71061105</td>\n",
       "      <td>71061664</td>\n",
       "      <td>False</td>\n",
       "      <td>False</td>\n",
       "      <td>False</td>\n",
       "      <td>False</td>\n",
       "    </tr>\n",
       "    <tr>\n",
       "      <th>2</th>\n",
       "      <td>chr10</td>\n",
       "      <td>50096</td>\n",
       "      <td>50747</td>\n",
       "      <td>chr10</td>\n",
       "      <td>19437275</td>\n",
       "      <td>19437902</td>\n",
       "      <td>False</td>\n",
       "      <td>False</td>\n",
       "      <td>False</td>\n",
       "      <td>False</td>\n",
       "    </tr>\n",
       "    <tr>\n",
       "      <th>3</th>\n",
       "      <td>chr10</td>\n",
       "      <td>52377</td>\n",
       "      <td>52917</td>\n",
       "      <td>chr10</td>\n",
       "      <td>78536</td>\n",
       "      <td>79151</td>\n",
       "      <td>False</td>\n",
       "      <td>False</td>\n",
       "      <td>False</td>\n",
       "      <td>False</td>\n",
       "    </tr>\n",
       "    <tr>\n",
       "      <th>4</th>\n",
       "      <td>chr10</td>\n",
       "      <td>52428</td>\n",
       "      <td>53079</td>\n",
       "      <td>chr10</td>\n",
       "      <td>806777</td>\n",
       "      <td>807334</td>\n",
       "      <td>False</td>\n",
       "      <td>False</td>\n",
       "      <td>False</td>\n",
       "      <td>False</td>\n",
       "    </tr>\n",
       "  </tbody>\n",
       "</table>\n",
       "</div>"
      ],
      "text/plain": [
       "  chrom1  start1   end1 chrom2    start2      end2  CTCF_1anchor  \\\n",
       "0  chr10   49043  49694  chr10   1596907   1597444         False   \n",
       "1  chr10   49291  49814  chr10  71061105  71061664         False   \n",
       "2  chr10   50096  50747  chr10  19437275  19437902         False   \n",
       "3  chr10   52377  52917  chr10     78536     79151         False   \n",
       "4  chr10   52428  53079  chr10    806777    807334         False   \n",
       "\n",
       "   CTCF_2anchors  Rad21_1anchor  Rad21_2anchors  \n",
       "0          False          False           False  \n",
       "1          False          False           False  \n",
       "2          False          False           False  \n",
       "3          False          False           False  \n",
       "4          False          False           False  "
      ]
     },
     "execution_count": 6,
     "metadata": {},
     "output_type": "execute_result"
    }
   ],
   "source": [
    "# Optional: Preview output file\n",
    "annotated_df = pd.read_csv(\"chia_pet_annotated_small.csv\")\n",
    "annotated_df.head()"
   ]
  },
  {
   "cell_type": "markdown",
   "id": "e1cc00d56bb6d9c0",
   "metadata": {},
   "source": [
    "## Example Region Visualization (pyGenomeTracks)\n",
    "\n",
    "Below is a snapshot of the genomic region `chr1:1000000-2000000` showing:\n",
    "\n",
    "- CTCF ChIP-seq peaks,\n",
    "- Rad21 ChIP-seq peaks,\n",
    "- ChIA-PET loops.\n",
    "\n",
    "The visualization was generated using `pyGenomeTracks` and includes all relevant tracks defined in a configuration file (`tracks.ini`).\n"
   ]
  },
  {
   "cell_type": "code",
   "id": "b5cbc4a150136e03",
   "metadata": {
    "ExecuteTime": {
     "end_time": "2025-03-26T17:20:28.176089Z",
     "start_time": "2025-03-26T17:20:03.237739Z"
    }
   },
   "source": [
    "import subprocess\n",
    "\n",
    "subprocess.run([\n",
    "    \"/home/kubog/.virtualenvs/GenomicsProject1/bin/pyGenomeTracks\",\n",
    "    \"--tracks\", \"tracks.ini\",\n",
    "    \"--region\", \"chr1:1200000-1300000\",\n",
    "    \"--outFileName\", \"example_region_tracks.png\"\n",
    "])\n",
    "\n"
   ],
   "outputs": [
    {
     "name": "stderr",
     "output_type": "stream",
     "text": [
      "INFO:pygenometracks.tracksClass:initialize 1. [x-axis]\n",
      "INFO:pygenometracks.tracksClass:initialize 2. [spacer]\n",
      "INFO:pygenometracks.tracksClass:initialize 3. [ctcf_peaks]\n",
      "Value: 13.94962 in field 7 is not an integer\n",
      " Only the first 6 fields will be used.\n",
      "100%|██████████| 13/13 [00:00<00:00, 45743.25it/s]\n",
      "INFO:pygenometracks.tracksClass:initialize 4. [rad21_peaks]\n",
      "Value: 95.29979 in field 7 is not an integer\n",
      " Only the first 6 fields will be used.\n",
      "100%|██████████| 6/6 [00:00<00:00, 39016.78it/s]\n",
      "INFO:pygenometracks.tracksClass:initialize 5. [chia_pet_loops]\n",
      "100%|██████████| 554317/554317 [00:14<00:00, 37170.48it/s]\n",
      "INFO:pygenometracks.tracksClass:time initializing track(s):\n",
      "INFO:pygenometracks.tracksClass:17.826783657073975\n",
      "DEBUG:pygenometracks.tracksClass:Figure size in cm is 40 x 10.106382978723405. Dpi is set to 72\n",
      "\n",
      "INFO:pygenometracks.tracksClass:plotting 1. [x-axis]\n",
      "INFO:pygenometracks.tracksClass:plotting 2. [spacer]\n",
      "INFO:pygenometracks.tracksClass:plotting 3. [ctcf_peaks]\n",
      "DEBUG:pygenometracks.tracks.GenomeTrack:ylim 3.38,-0.08\n",
      "DEBUG:pygenometracks.tracks.GenomeTrack:ylim (np.float64(3.38), np.float64(-0.08))\n",
      "INFO:pygenometracks.tracksClass:plotting 4. [rad21_peaks]\n",
      "DEBUG:pygenometracks.tracks.GenomeTrack:ylim 3.38,-0.08\n",
      "DEBUG:pygenometracks.tracks.GenomeTrack:ylim (np.float64(3.38), np.float64(-0.08))\n",
      "INFO:pygenometracks.tracksClass:plotting 5. [chia_pet_loops]\n",
      "DEBUG:pygenometracks.tracks.GenomeTrack:535 were links plotted\n"
     ]
    },
    {
     "data": {
      "text/plain": [
       "CompletedProcess(args=['/home/kubog/.virtualenvs/GenomicsProject1/bin/pyGenomeTracks', '--tracks', 'tracks.ini', '--region', 'chr1:1200000-1300000', '--outFileName', 'example_region_tracks.png'], returncode=0)"
      ]
     },
     "execution_count": 22,
     "metadata": {},
     "output_type": "execute_result"
    }
   ],
   "execution_count": 22
  },
  {
   "cell_type": "markdown",
   "id": "d004dbbe52bf6355",
   "metadata": {},
   "source": [
    "### Visualization Output\n",
    "\n",
    "The plot below shows loop anchors and binding sites in the selected region.\n",
    "\n",
    "![pyGenomeTracks example region](example_region_tracks.png)\n"
   ]
  },
  {
   "cell_type": "markdown",
   "id": "e732c0ec0e308641",
   "metadata": {},
   "source": [
    "## 6. Conclusions and Biological Interpretation\n",
    "\n",
    "### Quantitative Insights:\n",
    "- A large number of loops contain **at least one anchor** bound by **CTCF (1.23M)** or **Rad21 (1.07M)**.\n",
    "- Far fewer loops have **both anchors** bound by either protein: ~50k for CTCF, ~38k for Rad21.\n",
    "- **966,214 loops** share at least one anchor with both proteins, indicating a substantial degree of overlap and potential cooperation between CTCF and Rad21.\n",
    "- A smaller subset (**29,179 loops**) shows co-binding of **both proteins at both anchors**, which may reflect the most stable and functional chromatin loops.\n",
    "\n",
    "---\n",
    "\n",
    "### Biological Significance:\n",
    "- **CTCF** is a key architectural protein that acts as an insulator and plays a critical role in defining **TAD boundaries** (Topologically Associating Domains).\n",
    "- **Rad21**, a component of the **cohesin complex**, is involved in **loop extrusion**, a process that stabilizes chromatin loops during gene regulation.\n",
    "- Loops co-bound by CTCF and Rad21 are likely to represent **structural loops** critical for **chromatin organization** and **gene expression control**.\n",
    "- The relatively low number of loops with both anchors bound by both proteins may reflect:\n",
    "  - The selectivity and functional importance of these loops,\n",
    "  - Experimental limitations in detecting simultaneous ChIP-seq signals for both proteins.\n",
    "\n",
    "---\n"
   ]
  },
  {
   "cell_type": "markdown",
   "id": "21f4bb9cf6793d54",
   "metadata": {},
   "source": [
    "## 7. Requirements & How to Run\n",
    "\n",
    "### Python Package Requirements (example versions):\n",
    "\n",
    "- `python >= 3.8`\n",
    "- `pandas >= 1.4.0`\n",
    "- `pyranges >= 0.0.115`\n",
    "- `matplotlib >= 3.5.0`\n",
    "\n",
    "### Installation\n",
    "\n",
    "Install the required packages using `pip`:\n",
    "\n",
    "```bash\n",
    "pip install pandas pyranges matplotlib\n"
   ]
  }
 ],
 "metadata": {
  "kernelspec": {
   "display_name": "Python 3 (ipykernel)",
   "language": "python",
   "name": "python3"
  },
  "language_info": {
   "codemirror_mode": {
    "name": "ipython",
    "version": 3
   },
   "file_extension": ".py",
   "mimetype": "text/x-python",
   "name": "python",
   "nbconvert_exporter": "python",
   "pygments_lexer": "ipython3",
   "version": "3.12.3"
  }
 },
 "nbformat": 4,
 "nbformat_minor": 5
}
